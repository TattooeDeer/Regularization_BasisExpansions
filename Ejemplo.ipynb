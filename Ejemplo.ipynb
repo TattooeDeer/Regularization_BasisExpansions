{
 "cells": [
  {
   "cell_type": "code",
   "execution_count": 1,
   "metadata": {},
   "outputs": [],
   "source": [
    "%matplotlib inline\n",
    "import pandas as pd\n",
    "import numpy as np\n",
    "\n",
    "# Cosas de sklearn\n",
    "from sklearn.linear_model import RidgeCV, LassoCV, ElasticNetCV\n",
    "from sklearn.preprocessing import StandardScaler\n",
    "from sklearn.model_selection import train_test_split\n",
    "from sklearn.metrics import median_absolute_error, mean_squared_error\n",
    "from sklearn.decomposition import PCA\n",
    "from pygam.utils import generate_X_grid\n",
    "\n",
    "import matplotlib.pyplot as plt\n",
    "import seaborn as sn\n",
    "\n",
    "#plt.rcParams[\"figure.figsize\"] = (10, 6) # Tamaño gráficos\n",
    "plt.rcParams[\"figure.dpi\"] = 200 # resolución gráficos\n",
    "sn.set_style('darkgrid')\n",
    "\n",
    "import warnings\n",
    "warnings.filterwarnings('ignore')\n",
    "\n",
    "from pygam import LinearGAM"
   ]
  },
  {
   "cell_type": "code",
   "execution_count": 2,
   "metadata": {},
   "outputs": [
    {
     "data": {
      "text/html": [
       "<div>\n",
       "<style scoped>\n",
       "    .dataframe tbody tr th:only-of-type {\n",
       "        vertical-align: middle;\n",
       "    }\n",
       "\n",
       "    .dataframe tbody tr th {\n",
       "        vertical-align: top;\n",
       "    }\n",
       "\n",
       "    .dataframe thead th {\n",
       "        text-align: right;\n",
       "    }\n",
       "</style>\n",
       "<table border=\"1\" class=\"dataframe\">\n",
       "  <thead>\n",
       "    <tr style=\"text-align: right;\">\n",
       "      <th></th>\n",
       "      <th>net_manager</th>\n",
       "      <th>purchase_area</th>\n",
       "      <th>street</th>\n",
       "      <th>zipcode_from</th>\n",
       "      <th>zipcode_to</th>\n",
       "      <th>city</th>\n",
       "      <th>num_connections</th>\n",
       "      <th>delivery_perc</th>\n",
       "      <th>perc_of_active_connections</th>\n",
       "      <th>type_conn_perc</th>\n",
       "      <th>type_of_connection</th>\n",
       "      <th>annual_consume</th>\n",
       "      <th>annual_consume_lowtarif_perc</th>\n",
       "      <th>smartmeter_perc</th>\n",
       "    </tr>\n",
       "  </thead>\n",
       "  <tbody>\n",
       "    <tr>\n",
       "      <th>0</th>\n",
       "      <td>8716874000009</td>\n",
       "      <td>Stedin Utrecht</td>\n",
       "      <td>Egelshoek</td>\n",
       "      <td>1213RC</td>\n",
       "      <td>1231AB</td>\n",
       "      <td>HILVERSUM</td>\n",
       "      <td>30</td>\n",
       "      <td>90.00</td>\n",
       "      <td>100</td>\n",
       "      <td>80</td>\n",
       "      <td>3x25</td>\n",
       "      <td>5909</td>\n",
       "      <td>90.00</td>\n",
       "      <td>53.33</td>\n",
       "    </tr>\n",
       "    <tr>\n",
       "      <th>1</th>\n",
       "      <td>8716874000009</td>\n",
       "      <td>Stedin Utrecht</td>\n",
       "      <td>Rembrandtlaan</td>\n",
       "      <td>1231AC</td>\n",
       "      <td>1231AC</td>\n",
       "      <td>LOOSDRECHT</td>\n",
       "      <td>17</td>\n",
       "      <td>100.00</td>\n",
       "      <td>100</td>\n",
       "      <td>41</td>\n",
       "      <td>1x25</td>\n",
       "      <td>3062</td>\n",
       "      <td>94.12</td>\n",
       "      <td>76.47</td>\n",
       "    </tr>\n",
       "    <tr>\n",
       "      <th>2</th>\n",
       "      <td>8716874000009</td>\n",
       "      <td>Stedin Utrecht</td>\n",
       "      <td>Rembrandtlaan</td>\n",
       "      <td>1231AD</td>\n",
       "      <td>1231AD</td>\n",
       "      <td>LOOSDRECHT</td>\n",
       "      <td>17</td>\n",
       "      <td>100.00</td>\n",
       "      <td>100</td>\n",
       "      <td>47</td>\n",
       "      <td>3x25</td>\n",
       "      <td>3959</td>\n",
       "      <td>82.35</td>\n",
       "      <td>52.94</td>\n",
       "    </tr>\n",
       "    <tr>\n",
       "      <th>3</th>\n",
       "      <td>8716874000009</td>\n",
       "      <td>Stedin Utrecht</td>\n",
       "      <td>Jan Steenlaan</td>\n",
       "      <td>1231AE</td>\n",
       "      <td>1231AE</td>\n",
       "      <td>LOOSDRECHT</td>\n",
       "      <td>20</td>\n",
       "      <td>100.00</td>\n",
       "      <td>100</td>\n",
       "      <td>45</td>\n",
       "      <td>3x25</td>\n",
       "      <td>4230</td>\n",
       "      <td>90.00</td>\n",
       "      <td>45.00</td>\n",
       "    </tr>\n",
       "    <tr>\n",
       "      <th>4</th>\n",
       "      <td>8716874000009</td>\n",
       "      <td>Stedin Utrecht</td>\n",
       "      <td>Pieter de Hooghlaan</td>\n",
       "      <td>1231AG</td>\n",
       "      <td>1231AG</td>\n",
       "      <td>LOOSDRECHT</td>\n",
       "      <td>17</td>\n",
       "      <td>94.12</td>\n",
       "      <td>100</td>\n",
       "      <td>71</td>\n",
       "      <td>1x25</td>\n",
       "      <td>3180</td>\n",
       "      <td>94.12</td>\n",
       "      <td>88.24</td>\n",
       "    </tr>\n",
       "  </tbody>\n",
       "</table>\n",
       "</div>"
      ],
      "text/plain": [
       "     net_manager   purchase_area               street zipcode_from zipcode_to  \\\n",
       "0  8716874000009  Stedin Utrecht            Egelshoek       1213RC     1231AB   \n",
       "1  8716874000009  Stedin Utrecht        Rembrandtlaan       1231AC     1231AC   \n",
       "2  8716874000009  Stedin Utrecht        Rembrandtlaan       1231AD     1231AD   \n",
       "3  8716874000009  Stedin Utrecht        Jan Steenlaan       1231AE     1231AE   \n",
       "4  8716874000009  Stedin Utrecht  Pieter de Hooghlaan       1231AG     1231AG   \n",
       "\n",
       "         city  num_connections  delivery_perc  perc_of_active_connections  \\\n",
       "0   HILVERSUM               30          90.00                         100   \n",
       "1  LOOSDRECHT               17         100.00                         100   \n",
       "2  LOOSDRECHT               17         100.00                         100   \n",
       "3  LOOSDRECHT               20         100.00                         100   \n",
       "4  LOOSDRECHT               17          94.12                         100   \n",
       "\n",
       "   type_conn_perc type_of_connection  annual_consume  \\\n",
       "0              80               3x25            5909   \n",
       "1              41               1x25            3062   \n",
       "2              47               3x25            3959   \n",
       "3              45               3x25            4230   \n",
       "4              71               1x25            3180   \n",
       "\n",
       "   annual_consume_lowtarif_perc  smartmeter_perc  \n",
       "0                         90.00            53.33  \n",
       "1                         94.12            76.47  \n",
       "2                         82.35            52.94  \n",
       "3                         90.00            45.00  \n",
       "4                         94.12            88.24  "
      ]
     },
     "execution_count": 2,
     "metadata": {},
     "output_type": "execute_result"
    }
   ],
   "source": [
    "df = pd.read_csv('stedin_electricity_2019.csv')\n",
    "df.head()"
   ]
  },
  {
   "cell_type": "code",
   "execution_count": 3,
   "metadata": {},
   "outputs": [
    {
     "data": {
      "text/plain": [
       "net_manager                       int64\n",
       "purchase_area                    object\n",
       "street                           object\n",
       "zipcode_from                     object\n",
       "zipcode_to                       object\n",
       "city                             object\n",
       "num_connections                   int64\n",
       "delivery_perc                   float64\n",
       "perc_of_active_connections        int64\n",
       "type_conn_perc                    int64\n",
       "type_of_connection               object\n",
       "annual_consume                    int64\n",
       "annual_consume_lowtarif_perc    float64\n",
       "smartmeter_perc                 float64\n",
       "dtype: object"
      ]
     },
     "execution_count": 3,
     "metadata": {},
     "output_type": "execute_result"
    }
   ],
   "source": [
    "df.dtypes"
   ]
  },
  {
   "cell_type": "code",
   "execution_count": 4,
   "metadata": {},
   "outputs": [
    {
     "data": {
      "text/plain": [
       "26612"
      ]
     },
     "execution_count": 4,
     "metadata": {},
     "output_type": "execute_result"
    }
   ],
   "source": [
    "len(df['street'].value_counts())"
   ]
  },
  {
   "cell_type": "code",
   "execution_count": 5,
   "metadata": {},
   "outputs": [
    {
     "data": {
      "text/html": [
       "<div>\n",
       "<style scoped>\n",
       "    .dataframe tbody tr th:only-of-type {\n",
       "        vertical-align: middle;\n",
       "    }\n",
       "\n",
       "    .dataframe tbody tr th {\n",
       "        vertical-align: top;\n",
       "    }\n",
       "\n",
       "    .dataframe thead th {\n",
       "        text-align: right;\n",
       "    }\n",
       "</style>\n",
       "<table border=\"1\" class=\"dataframe\">\n",
       "  <thead>\n",
       "    <tr style=\"text-align: right;\">\n",
       "      <th></th>\n",
       "      <th>dummy_'S GRAVENHAGE</th>\n",
       "      <th>dummy_'S-GRAVENDEEL</th>\n",
       "      <th>dummy_'S-GRAVENHAGE</th>\n",
       "      <th>dummy_'T GOY</th>\n",
       "      <th>dummy_ABBENBROEK</th>\n",
       "      <th>dummy_ABCOUDE</th>\n",
       "      <th>dummy_ACHTERVELD</th>\n",
       "      <th>dummy_ACHTHUIZEN</th>\n",
       "      <th>dummy_ACQUOY</th>\n",
       "      <th>dummy_ALBLASSERDAM</th>\n",
       "      <th>...</th>\n",
       "      <th>dummy_ZWARTEWAAL</th>\n",
       "      <th>dummy_ZWIJNDRECHT</th>\n",
       "      <th>dummy_1x25</th>\n",
       "      <th>dummy_1x35</th>\n",
       "      <th>dummy_1x50</th>\n",
       "      <th>dummy_3x25</th>\n",
       "      <th>dummy_3x35</th>\n",
       "      <th>dummy_3x50</th>\n",
       "      <th>dummy_3x63</th>\n",
       "      <th>dummy_3x80</th>\n",
       "    </tr>\n",
       "  </thead>\n",
       "  <tbody>\n",
       "    <tr>\n",
       "      <th>0</th>\n",
       "      <td>0</td>\n",
       "      <td>0</td>\n",
       "      <td>0</td>\n",
       "      <td>0</td>\n",
       "      <td>0</td>\n",
       "      <td>0</td>\n",
       "      <td>0</td>\n",
       "      <td>0</td>\n",
       "      <td>0</td>\n",
       "      <td>0</td>\n",
       "      <td>...</td>\n",
       "      <td>0</td>\n",
       "      <td>0</td>\n",
       "      <td>0</td>\n",
       "      <td>0</td>\n",
       "      <td>0</td>\n",
       "      <td>1</td>\n",
       "      <td>0</td>\n",
       "      <td>0</td>\n",
       "      <td>0</td>\n",
       "      <td>0</td>\n",
       "    </tr>\n",
       "    <tr>\n",
       "      <th>1</th>\n",
       "      <td>0</td>\n",
       "      <td>0</td>\n",
       "      <td>0</td>\n",
       "      <td>0</td>\n",
       "      <td>0</td>\n",
       "      <td>0</td>\n",
       "      <td>0</td>\n",
       "      <td>0</td>\n",
       "      <td>0</td>\n",
       "      <td>0</td>\n",
       "      <td>...</td>\n",
       "      <td>0</td>\n",
       "      <td>0</td>\n",
       "      <td>1</td>\n",
       "      <td>0</td>\n",
       "      <td>0</td>\n",
       "      <td>0</td>\n",
       "      <td>0</td>\n",
       "      <td>0</td>\n",
       "      <td>0</td>\n",
       "      <td>0</td>\n",
       "    </tr>\n",
       "    <tr>\n",
       "      <th>2</th>\n",
       "      <td>0</td>\n",
       "      <td>0</td>\n",
       "      <td>0</td>\n",
       "      <td>0</td>\n",
       "      <td>0</td>\n",
       "      <td>0</td>\n",
       "      <td>0</td>\n",
       "      <td>0</td>\n",
       "      <td>0</td>\n",
       "      <td>0</td>\n",
       "      <td>...</td>\n",
       "      <td>0</td>\n",
       "      <td>0</td>\n",
       "      <td>0</td>\n",
       "      <td>0</td>\n",
       "      <td>0</td>\n",
       "      <td>1</td>\n",
       "      <td>0</td>\n",
       "      <td>0</td>\n",
       "      <td>0</td>\n",
       "      <td>0</td>\n",
       "    </tr>\n",
       "    <tr>\n",
       "      <th>3</th>\n",
       "      <td>0</td>\n",
       "      <td>0</td>\n",
       "      <td>0</td>\n",
       "      <td>0</td>\n",
       "      <td>0</td>\n",
       "      <td>0</td>\n",
       "      <td>0</td>\n",
       "      <td>0</td>\n",
       "      <td>0</td>\n",
       "      <td>0</td>\n",
       "      <td>...</td>\n",
       "      <td>0</td>\n",
       "      <td>0</td>\n",
       "      <td>0</td>\n",
       "      <td>0</td>\n",
       "      <td>0</td>\n",
       "      <td>1</td>\n",
       "      <td>0</td>\n",
       "      <td>0</td>\n",
       "      <td>0</td>\n",
       "      <td>0</td>\n",
       "    </tr>\n",
       "    <tr>\n",
       "      <th>4</th>\n",
       "      <td>0</td>\n",
       "      <td>0</td>\n",
       "      <td>0</td>\n",
       "      <td>0</td>\n",
       "      <td>0</td>\n",
       "      <td>0</td>\n",
       "      <td>0</td>\n",
       "      <td>0</td>\n",
       "      <td>0</td>\n",
       "      <td>0</td>\n",
       "      <td>...</td>\n",
       "      <td>0</td>\n",
       "      <td>0</td>\n",
       "      <td>1</td>\n",
       "      <td>0</td>\n",
       "      <td>0</td>\n",
       "      <td>0</td>\n",
       "      <td>0</td>\n",
       "      <td>0</td>\n",
       "      <td>0</td>\n",
       "      <td>0</td>\n",
       "    </tr>\n",
       "  </tbody>\n",
       "</table>\n",
       "<p>5 rows × 271 columns</p>\n",
       "</div>"
      ],
      "text/plain": [
       "   dummy_'S GRAVENHAGE  dummy_'S-GRAVENDEEL  dummy_'S-GRAVENHAGE  \\\n",
       "0                    0                    0                    0   \n",
       "1                    0                    0                    0   \n",
       "2                    0                    0                    0   \n",
       "3                    0                    0                    0   \n",
       "4                    0                    0                    0   \n",
       "\n",
       "   dummy_'T GOY  dummy_ABBENBROEK  dummy_ABCOUDE  dummy_ACHTERVELD  \\\n",
       "0             0                 0              0                 0   \n",
       "1             0                 0              0                 0   \n",
       "2             0                 0              0                 0   \n",
       "3             0                 0              0                 0   \n",
       "4             0                 0              0                 0   \n",
       "\n",
       "   dummy_ACHTHUIZEN  dummy_ACQUOY  dummy_ALBLASSERDAM     ...      \\\n",
       "0                 0             0                   0     ...       \n",
       "1                 0             0                   0     ...       \n",
       "2                 0             0                   0     ...       \n",
       "3                 0             0                   0     ...       \n",
       "4                 0             0                   0     ...       \n",
       "\n",
       "   dummy_ZWARTEWAAL  dummy_ZWIJNDRECHT  dummy_1x25  dummy_1x35  dummy_1x50  \\\n",
       "0                 0                  0           0           0           0   \n",
       "1                 0                  0           1           0           0   \n",
       "2                 0                  0           0           0           0   \n",
       "3                 0                  0           0           0           0   \n",
       "4                 0                  0           1           0           0   \n",
       "\n",
       "   dummy_3x25  dummy_3x35  dummy_3x50  dummy_3x63  dummy_3x80  \n",
       "0           1           0           0           0           0  \n",
       "1           0           0           0           0           0  \n",
       "2           1           0           0           0           0  \n",
       "3           1           0           0           0           0  \n",
       "4           0           0           0           0           0  \n",
       "\n",
       "[5 rows x 271 columns]"
      ]
     },
     "execution_count": 5,
     "metadata": {},
     "output_type": "execute_result"
    }
   ],
   "source": [
    "df_dummies_categorical = pd.get_dummies(df[['city', 'type_of_connection']], prefix = 'dummy')\n",
    "df_dummies_categorical.head()"
   ]
  },
  {
   "cell_type": "code",
   "execution_count": 6,
   "metadata": {},
   "outputs": [],
   "source": [
    "x_train_pre, x_test_pre, y_train, y_test = train_test_split(pd.concat([df[['num_connections', 'delivery_perc', \n",
    "                                                                'perc_of_active_connections']],\n",
    "                                                              df_dummies_categorical], axis = 1),\n",
    "                                                    df['annual_consume'],\n",
    "                                                    random_state = 12,\n",
    "                                                    test_size = .30)\n",
    "\n",
    "x_train_pre.reset_index(inplace = True, drop = True)\n",
    "x_test_pre.reset_index(inplace = True, drop = True)\n",
    "y_train.reset_index(inplace = True, drop = True)\n",
    "y_test.reset_index(inplace = True, drop = True)"
   ]
  },
  {
   "cell_type": "code",
   "execution_count": 7,
   "metadata": {},
   "outputs": [],
   "source": [
    "std_scaler = StandardScaler().fit(x_train_pre[['num_connections', 'delivery_perc', 'perc_of_active_connections']])\n"
   ]
  },
  {
   "cell_type": "code",
   "execution_count": 8,
   "metadata": {},
   "outputs": [],
   "source": [
    "x_train_numeric_scaled = pd.DataFrame(std_scaler.transform(x_train_pre[['num_connections',\n",
    "                                                           'delivery_perc', 'perc_of_active_connections']]),\n",
    "                                     columns = ['num_connections', 'delivery_perc', 'perc_of_active_connections'])\n",
    "\n",
    "x_train_numeric_scaled.reset_index(drop = True, inplace = True)"
   ]
  },
  {
   "cell_type": "code",
   "execution_count": 9,
   "metadata": {},
   "outputs": [],
   "source": [
    "x_test_numeric_scaled = pd.DataFrame(std_scaler.transform(x_test_pre[['num_connections',\n",
    "                                                         'delivery_perc', 'perc_of_active_connections']]),\n",
    "                                    columns = ['num_connections', 'delivery_perc', 'perc_of_active_connections'])\n",
    "\n",
    "x_test_numeric_scaled.reset_index(drop = True, inplace = True)"
   ]
  },
  {
   "cell_type": "code",
   "execution_count": 10,
   "metadata": {},
   "outputs": [],
   "source": [
    "x_train_pre.drop(['num_connections', 'delivery_perc', 'perc_of_active_connections'], axis = 1, inplace = True)\n",
    "x_test_pre.drop(['num_connections', 'delivery_perc', 'perc_of_active_connections'], axis = 1, inplace = True)\n"
   ]
  },
  {
   "cell_type": "code",
   "execution_count": 11,
   "metadata": {},
   "outputs": [
    {
     "data": {
      "text/plain": [
       "(57542, 271)"
      ]
     },
     "execution_count": 11,
     "metadata": {},
     "output_type": "execute_result"
    }
   ],
   "source": [
    "x_train_pre.shape"
   ]
  },
  {
   "cell_type": "code",
   "execution_count": 12,
   "metadata": {},
   "outputs": [
    {
     "data": {
      "text/plain": [
       "(57542, 3)"
      ]
     },
     "execution_count": 12,
     "metadata": {},
     "output_type": "execute_result"
    }
   ],
   "source": [
    "x_train_numeric_scaled.shape"
   ]
  },
  {
   "cell_type": "code",
   "execution_count": 13,
   "metadata": {},
   "outputs": [],
   "source": [
    "x_train = pd.concat([x_train_numeric_scaled, x_train_pre], axis = 1)\n",
    "x_test = pd.concat([x_test_numeric_scaled, x_test_pre], axis = 1)"
   ]
  },
  {
   "cell_type": "code",
   "execution_count": 14,
   "metadata": {},
   "outputs": [],
   "source": [
    "ridge = RidgeCV(cv = 10).fit(x_train, y_train)\n",
    "lasso = LassoCV(cv = 10).fit(x_train, y_train)\n",
    "elastic_net = ElasticNetCV(cv = 10).fit(x_train, y_train)\n"
   ]
  },
  {
   "cell_type": "code",
   "execution_count": 15,
   "metadata": {},
   "outputs": [
    {
     "name": "stdout",
     "output_type": "stream",
     "text": [
      "\n",
      "################ RIDGE #################\n",
      "Median Absolute Error: 855.8472695399123\n",
      "RMSE: 2497.208721557891\n",
      "Parámetro/s encontrados: 1.0\n",
      "\n",
      "################ LASSO #################\n",
      "Median Absolute Error: 851.7989472327813\n",
      "RMSE: 2497.8736074333647\n",
      "Parámetro/s encontrados: 0.4099269680263932\n",
      "\n",
      "################ ELASTIC-NET #################\n",
      "Median Absolute Error: 1033.3370421027473\n",
      "RMSE: 2933.3716712117916\n",
      "Parámetro/s encontrados: 0.8198539360527864\n"
     ]
    }
   ],
   "source": [
    "print('\\n################ RIDGE #################')\n",
    "print('Median Absolute Error: {}'.format(median_absolute_error(y_test, ridge.predict(x_test))))\n",
    "print('RMSE: {}'.format(np.sqrt(mean_squared_error(y_test, ridge.predict(x_test)))))\n",
    "print('Parámetro/s encontrados: {}'.format(ridge.alpha_))\n",
    "print('\\n################ LASSO #################')\n",
    "print('Median Absolute Error: {}'.format(median_absolute_error(y_test, lasso.predict(x_test))))\n",
    "print('RMSE: {}'.format(np.sqrt(mean_squared_error(y_test, lasso.predict(x_test)))))\n",
    "print('Parámetro/s encontrados: {}'.format(lasso.alpha_))\n",
    "print('\\n################ ELASTIC-NET #################')\n",
    "print('Median Absolute Error: {}'.format(median_absolute_error(y_test, elastic_net.predict(x_test))))\n",
    "print('RMSE: {}'.format(np.sqrt(mean_squared_error(y_test, elastic_net.predict(x_test)))))\n",
    "print('Parámetro/s encontrados: {}'.format(elastic_net.alpha_))"
   ]
  },
  {
   "cell_type": "markdown",
   "metadata": {},
   "source": [
    "\n",
    "--------\n",
    "## GAM\n",
    "Antes de entrenar los GAM voy a eliminar algunas columnas con PCA"
   ]
  },
  {
   "cell_type": "code",
   "execution_count": 16,
   "metadata": {},
   "outputs": [],
   "source": [
    "pca = PCA(n_components = .95, svd_solver='full').fit(x_train)\n",
    "x_train_pca = pca.transform(x_train)\n",
    "x_test_pca = pca.transform(x_test)"
   ]
  },
  {
   "cell_type": "code",
   "execution_count": 17,
   "metadata": {},
   "outputs": [
    {
     "data": {
      "text/plain": [
       "(57542, 59)"
      ]
     },
     "execution_count": 17,
     "metadata": {},
     "output_type": "execute_result"
    }
   ],
   "source": [
    "x_train_pca.shape"
   ]
  },
  {
   "cell_type": "code",
   "execution_count": 18,
   "metadata": {},
   "outputs": [
    {
     "name": "stderr",
     "output_type": "stream",
     "text": [
      "/Users/ignacio/anaconda3/lib/python3.6/site-packages/numpy/matrixlib/defmatrix.py:68: PendingDeprecationWarning: the matrix subclass is not the recommended way to represent matrices or deal with linear algebra (see https://docs.scipy.org/doc/numpy/user/numpy-for-matlab-users.html). Please adjust your code to use regular ndarray.\n",
      "  return matrix(data, dtype=dtype, copy=False)\n"
     ]
    },
    {
     "name": "stdout",
     "output_type": "stream",
     "text": [
      "CPU times: user 2min 55s, sys: 7.88 s, total: 3min 3s\n",
      "Wall time: 1min 43s\n"
     ]
    }
   ],
   "source": [
    "%%time\n",
    "gam = LinearGAM(lam = .3).fit(x_train_pca, y_train)\n"
   ]
  },
  {
   "cell_type": "code",
   "execution_count": 19,
   "metadata": {},
   "outputs": [
    {
     "name": "stdout",
     "output_type": "stream",
     "text": [
      "LinearGAM                                                                                                 \n",
      "=============================================== ==========================================================\n",
      "Distribution:                        NormalDist Effective DoF:                                    410.4769\n",
      "Link Function:                     IdentityLink Log Likelihood:                               -947491.7514\n",
      "Number of Samples:                        57542 AIC:                                          1895806.4565\n",
      "                                                AICc:                                         1895812.3983\n",
      "                                                GCV:                                           5723359.774\n",
      "                                                Scale:                                        5649916.8702\n",
      "                                                Pseudo R-Squared:                                    0.375\n",
      "==========================================================================================================\n",
      "Feature Function   Data Type      Num Splines   Spline Order  Linear Fit  Lambda     P > x      Sig. Code \n",
      "================== ============== ============= ============= =========== ========== ========== ==========\n",
      "feature 1          numerical      25            3             False       0.3        5.03e-04   ***       \n",
      "feature 2          numerical      25            3             False       0.3        1.67e-07   ***       \n",
      "feature 3          numerical      25            3             False       0.3        1.11e-16   ***       \n",
      "feature 4          numerical      25            3             False       0.3        1.11e-16   ***       \n",
      "feature 5          numerical      25            3             False       0.3        1.11e-16   ***       \n",
      "feature 6          numerical      25            3             False       0.3        1.91e-09   ***       \n",
      "feature 7          numerical      25            3             False       0.3        2.93e-07   ***       \n",
      "feature 8          numerical      25            3             False       0.3        1.11e-16   ***       \n",
      "feature 9          numerical      25            3             False       0.3        3.47e-09   ***       \n",
      "feature 10         numerical      25            3             False       0.3        1.11e-16   ***       \n",
      "feature 11         numerical      25            3             False       0.3        6.30e-05   ***       \n",
      "feature 12         numerical      25            3             False       0.3        4.79e-07   ***       \n",
      "feature 13         numerical      25            3             False       0.3        6.52e-11   ***       \n",
      "feature 14         numerical      25            3             False       0.3        1.11e-16   ***       \n",
      "feature 15         numerical      25            3             False       0.3        1.11e-16   ***       \n",
      "feature 16         numerical      25            3             False       0.3        2.55e-14   ***       \n",
      "feature 17         numerical      25            3             False       0.3        4.46e-14   ***       \n",
      "feature 18         numerical      25            3             False       0.3        1.11e-16   ***       \n",
      "feature 19         numerical      25            3             False       0.3        9.88e-12   ***       \n",
      "feature 20         numerical      25            3             False       0.3        2.22e-16   ***       \n",
      "feature 21         numerical      25            3             False       0.3        5.95e-08   ***       \n",
      "feature 22         numerical      25            3             False       0.3        1.21e-05   ***       \n",
      "feature 23         numerical      25            3             False       0.3        8.03e-09   ***       \n",
      "feature 24         numerical      25            3             False       0.3        1.60e-07   ***       \n",
      "feature 25         numerical      25            3             False       0.3        1.11e-16   ***       \n",
      "feature 26         numerical      25            3             False       0.3        1.11e-16   ***       \n",
      "feature 27         numerical      25            3             False       0.3        3.77e-15   ***       \n",
      "feature 28         numerical      25            3             False       0.3        8.51e-10   ***       \n",
      "feature 29         numerical      25            3             False       0.3        4.89e-13   ***       \n",
      "feature 30         numerical      25            3             False       0.3        1.28e-08   ***       \n",
      "feature 31         numerical      25            3             False       0.3        4.11e-15   ***       \n",
      "feature 32         numerical      25            3             False       0.3        2.49e-08   ***       \n",
      "feature 33         numerical      25            3             False       0.3        4.07e-08   ***       \n",
      "feature 34         numerical      25            3             False       0.3        5.73e-05   ***       \n",
      "feature 35         numerical      25            3             False       0.3        5.55e-11   ***       \n",
      "feature 36         numerical      25            3             False       0.3        2.21e-07   ***       \n",
      "feature 37         numerical      25            3             False       0.3        3.44e-07   ***       \n",
      "feature 38         numerical      25            3             False       0.3        1.11e-16   ***       \n",
      "feature 39         numerical      25            3             False       0.3        3.23e-11   ***       \n",
      "feature 40         numerical      25            3             False       0.3        8.83e-14   ***       \n",
      "feature 41         numerical      25            3             False       0.3        8.08e-13   ***       \n",
      "feature 42         numerical      25            3             False       0.3        8.44e-15   ***       \n",
      "feature 43         numerical      25            3             False       0.3        1.11e-16   ***       \n",
      "feature 44         numerical      25            3             False       0.3        1.94e-14   ***       \n",
      "feature 45         numerical      25            3             False       0.3        1.11e-16   ***       \n",
      "feature 46         numerical      25            3             False       0.3        1.11e-16   ***       \n",
      "feature 47         numerical      25            3             False       0.3        1.11e-16   ***       \n",
      "feature 48         numerical      25            3             False       0.3        8.28e-14   ***       \n",
      "feature 49         numerical      25            3             False       0.3        2.12e-12   ***       \n",
      "feature 50         numerical      25            3             False       0.3        8.30e-07   ***       \n",
      "feature 51         numerical      25            3             False       0.3        7.46e-05   ***       \n",
      "feature 52         numerical      25            3             False       0.3        1.16e-04   ***       \n",
      "feature 53         numerical      25            3             False       0.3        8.11e-08   ***       \n",
      "feature 54         numerical      25            3             False       0.3        2.89e-12   ***       \n",
      "feature 55         numerical      25            3             False       0.3        5.52e-07   ***       \n",
      "feature 56         numerical      25            3             False       0.3        4.78e-06   ***       \n",
      "feature 57         numerical      25            3             False       0.3        6.82e-08   ***       \n",
      "feature 58         numerical      25            3             False       0.3        4.51e-06   ***       \n",
      "feature 59         numerical      25            3             False       0.3        4.52e-08   ***       \n",
      "intercept                                                                            9.78e-01             \n",
      "==========================================================================================================\n",
      "Significance codes:  0 '***' 0.001 '**' 0.01 '*' 0.05 '.' 0.1 ' ' 1\n",
      "\n",
      "WARNING: Fitting splines and a linear function to a feature introduces a model identifiability problem\n",
      "         which can cause p-values to appear significant when they are not.\n",
      "\n",
      "WARNING: p-values calculated in this manner behave correctly for un-penalized models or models with\n",
      "         known smoothing parameters, but when smoothing parameters have been estimated, the p-values\n",
      "         are typically lower than they should be, meaning that the tests reject the null too readily.\n"
     ]
    }
   ],
   "source": [
    "gam.summary()"
   ]
  },
  {
   "cell_type": "code",
   "execution_count": 20,
   "metadata": {},
   "outputs": [
    {
     "name": "stdout",
     "output_type": "stream",
     "text": [
      "\n",
      "################ LinearGAM #################\n",
      "Median Absolute Error: 789.4770881133586\n",
      "RMSE: 2464.1188229383934\n",
      "Lambda: 0.3\n"
     ]
    }
   ],
   "source": [
    "print('\\n################ LinearGAM #################')\n",
    "print('Median Absolute Error: {}'.format(median_absolute_error(y_test, gam.predict(x_test_pca))))\n",
    "print('RMSE: {}'.format(np.sqrt(mean_squared_error(y_test, gam.predict(x_test_pca)))))\n",
    "print('Lambda: {}'.format(gam.lam))\n"
   ]
  },
  {
   "cell_type": "markdown",
   "metadata": {},
   "source": [
    "### Gridsearch"
   ]
  },
  {
   "cell_type": "code",
   "execution_count": 35,
   "metadata": {},
   "outputs": [
    {
     "data": {
      "text/plain": [
       "array([  0.,  25.,  50.,  75., 100.])"
      ]
     },
     "execution_count": 35,
     "metadata": {},
     "output_type": "execute_result"
    }
   ],
   "source": [
    "np.linspace(0, 100, 5)"
   ]
  },
  {
   "cell_type": "code",
   "execution_count": 34,
   "metadata": {},
   "outputs": [
    {
     "name": "stderr",
     "output_type": "stream",
     "text": [
      "N/A% (0 of 5) |                          | Elapsed Time: 0:00:00 ETA:  --:--:--/Users/ignacio/anaconda3/lib/python3.6/site-packages/numpy/matrixlib/defmatrix.py:68: PendingDeprecationWarning: the matrix subclass is not the recommended way to represent matrices or deal with linear algebra (see https://docs.scipy.org/doc/numpy/user/numpy-for-matlab-users.html). Please adjust your code to use regular ndarray.\n",
      "  return matrix(data, dtype=dtype, copy=False)\n",
      " 40% (2 of 5) |##########                | Elapsed Time: 0:01:35 ETA:   0:02:23/Users/ignacio/anaconda3/lib/python3.6/site-packages/numpy/matrixlib/defmatrix.py:68: PendingDeprecationWarning: the matrix subclass is not the recommended way to represent matrices or deal with linear algebra (see https://docs.scipy.org/doc/numpy/user/numpy-for-matlab-users.html). Please adjust your code to use regular ndarray.\n",
      "  return matrix(data, dtype=dtype, copy=False)\n",
      " 60% (3 of 5) |###############           | Elapsed Time: 0:03:08 ETA:   0:03:06/Users/ignacio/anaconda3/lib/python3.6/site-packages/numpy/matrixlib/defmatrix.py:68: PendingDeprecationWarning: the matrix subclass is not the recommended way to represent matrices or deal with linear algebra (see https://docs.scipy.org/doc/numpy/user/numpy-for-matlab-users.html). Please adjust your code to use regular ndarray.\n",
      "  return matrix(data, dtype=dtype, copy=False)\n",
      " 80% (4 of 5) |####################      | Elapsed Time: 0:04:40 ETA:   0:01:31/Users/ignacio/anaconda3/lib/python3.6/site-packages/numpy/matrixlib/defmatrix.py:68: PendingDeprecationWarning: the matrix subclass is not the recommended way to represent matrices or deal with linear algebra (see https://docs.scipy.org/doc/numpy/user/numpy-for-matlab-users.html). Please adjust your code to use regular ndarray.\n",
      "  return matrix(data, dtype=dtype, copy=False)\n",
      "100% (5 of 5) |##########################| Elapsed Time: 0:06:10 Time:  0:06:10\n"
     ]
    },
    {
     "name": "stdout",
     "output_type": "stream",
     "text": [
      "LinearGAM                                                                                                 \n",
      "=============================================== ==========================================================\n",
      "Distribution:                        NormalDist Effective DoF:                                    207.5441\n",
      "Link Function:                     IdentityLink Log Likelihood:                               -948519.3536\n",
      "Number of Samples:                        57542 AIC:                                          1897455.7954\n",
      "                                                AICc:                                         1897457.3198\n",
      "                                                GCV:                                           5789294.786\n",
      "                                                Scale:                                        5751721.1002\n",
      "                                                Pseudo R-Squared:                                   0.3614\n",
      "==========================================================================================================\n",
      "Feature Function   Data Type      Num Splines   Spline Order  Linear Fit  Lambda     P > x      Sig. Code \n",
      "================== ============== ============= ============= =========== ========== ========== ==========\n",
      "feature 1          numerical      25            3             False       25.0       6.17e-12   ***       \n",
      "feature 2          numerical      25            3             False       25.0       1.29e-09   ***       \n",
      "feature 3          numerical      25            3             False       25.0       1.11e-16   ***       \n",
      "feature 4          numerical      25            3             False       25.0       1.11e-16   ***       \n",
      "feature 5          numerical      25            3             False       25.0       1.11e-16   ***       \n",
      "feature 6          numerical      25            3             False       25.0       1.11e-16   ***       \n",
      "feature 7          numerical      25            3             False       25.0       1.11e-16   ***       \n",
      "feature 8          numerical      25            3             False       25.0       1.11e-16   ***       \n",
      "feature 9          numerical      25            3             False       25.0       1.11e-16   ***       \n",
      "feature 10         numerical      25            3             False       25.0       1.11e-16   ***       \n",
      "feature 11         numerical      25            3             False       25.0       7.74e-13   ***       \n",
      "feature 12         numerical      25            3             False       25.0       1.11e-16   ***       \n",
      "feature 13         numerical      25            3             False       25.0       5.58e-05   ***       \n",
      "feature 14         numerical      25            3             False       25.0       1.11e-16   ***       \n",
      "feature 15         numerical      25            3             False       25.0       1.11e-16   ***       \n",
      "feature 16         numerical      25            3             False       25.0       1.11e-16   ***       \n",
      "feature 17         numerical      25            3             False       25.0       2.48e-12   ***       \n",
      "feature 18         numerical      25            3             False       25.0       1.11e-16   ***       \n",
      "feature 19         numerical      25            3             False       25.0       1.11e-16   ***       \n",
      "feature 20         numerical      25            3             False       25.0       1.11e-16   ***       \n",
      "feature 21         numerical      25            3             False       25.0       1.11e-16   ***       \n",
      "feature 22         numerical      25            3             False       25.0       5.00e-15   ***       \n",
      "feature 23         numerical      25            3             False       25.0       9.36e-13   ***       \n",
      "feature 24         numerical      25            3             False       25.0       1.11e-16   ***       \n",
      "feature 25         numerical      25            3             False       25.0       1.11e-16   ***       \n",
      "feature 26         numerical      25            3             False       25.0       1.11e-16   ***       \n",
      "feature 27         numerical      25            3             False       25.0       1.11e-16   ***       \n",
      "feature 28         numerical      25            3             False       25.0       2.45e-13   ***       \n",
      "feature 29         numerical      25            3             False       25.0       1.11e-16   ***       \n",
      "feature 30         numerical      25            3             False       25.0       1.11e-16   ***       \n",
      "feature 31         numerical      25            3             False       25.0       1.11e-16   ***       \n",
      "feature 32         numerical      25            3             False       25.0       3.33e-16   ***       \n",
      "feature 33         numerical      25            3             False       25.0       1.11e-16   ***       \n",
      "feature 34         numerical      25            3             False       25.0       4.58e-13   ***       \n",
      "feature 35         numerical      25            3             False       25.0       9.71e-09   ***       \n",
      "feature 36         numerical      25            3             False       25.0       1.86e-06   ***       \n",
      "feature 37         numerical      25            3             False       25.0       1.16e-07   ***       \n",
      "feature 38         numerical      25            3             False       25.0       1.11e-16   ***       \n",
      "feature 39         numerical      25            3             False       25.0       1.11e-16   ***       \n",
      "feature 40         numerical      25            3             False       25.0       1.11e-16   ***       \n",
      "feature 41         numerical      25            3             False       25.0       1.11e-16   ***       \n",
      "feature 42         numerical      25            3             False       25.0       3.11e-15   ***       \n",
      "feature 43         numerical      25            3             False       25.0       1.11e-16   ***       \n",
      "feature 44         numerical      25            3             False       25.0       1.11e-16   ***       \n",
      "feature 45         numerical      25            3             False       25.0       1.11e-16   ***       \n",
      "feature 46         numerical      25            3             False       25.0       1.11e-16   ***       \n",
      "feature 47         numerical      25            3             False       25.0       1.11e-16   ***       \n",
      "feature 48         numerical      25            3             False       25.0       1.11e-16   ***       \n",
      "feature 49         numerical      25            3             False       25.0       1.11e-16   ***       \n",
      "feature 50         numerical      25            3             False       25.0       1.11e-16   ***       \n",
      "feature 51         numerical      25            3             False       25.0       3.69e-09   ***       \n",
      "feature 52         numerical      25            3             False       25.0       1.11e-16   ***       \n",
      "feature 53         numerical      25            3             False       25.0       1.11e-16   ***       \n",
      "feature 54         numerical      25            3             False       25.0       3.33e-16   ***       \n",
      "feature 55         numerical      25            3             False       25.0       1.53e-12   ***       \n",
      "feature 56         numerical      25            3             False       25.0       2.96e-08   ***       \n",
      "feature 57         numerical      25            3             False       25.0       2.67e-05   ***       \n",
      "feature 58         numerical      25            3             False       25.0       3.16e-06   ***       \n",
      "feature 59         numerical      25            3             False       25.0       1.02e-09   ***       \n",
      "intercept                                                                            3.74e-01             \n",
      "==========================================================================================================\n",
      "Significance codes:  0 '***' 0.001 '**' 0.01 '*' 0.05 '.' 0.1 ' ' 1\n",
      "\n",
      "WARNING: Fitting splines and a linear function to a feature introduces a model identifiability problem\n",
      "         which can cause p-values to appear significant when they are not.\n",
      "\n",
      "WARNING: p-values calculated in this manner behave correctly for un-penalized models or models with\n",
      "         known smoothing parameters, but when smoothing parameters have been estimated, the p-values\n",
      "         are typically lower than they should be, meaning that the tests reject the null too readily.\n",
      "CPU times: user 10min 56s, sys: 26.6 s, total: 11min 22s\n",
      "Wall time: 6min 11s\n"
     ]
    }
   ],
   "source": [
    "%%time\n",
    "search_lambda_params = {'lam': np.linspace(0, 100, 5)}\n",
    "gridsearch_gam = LinearGAM().gridsearch(x_train_pca, y_train, **search_lambda_params)\n",
    "gridsearch_gam.summary()"
   ]
  },
  {
   "cell_type": "code",
   "execution_count": 22,
   "metadata": {},
   "outputs": [
    {
     "name": "stdout",
     "output_type": "stream",
     "text": [
      "\n",
      "################ LinearGAM #################\n",
      "Median Absolute Error: 792.1920210345654\n",
      "RMSE: 2473.069835517191\n",
      "Parámetro/s encontrados: 5.0\n"
     ]
    }
   ],
   "source": [
    "print('\\n################ LinearGAM #################')\n",
    "print('Median Absolute Error: {}'.format(median_absolute_error(y_test, gridsearch_gam.predict(x_test_pca))))\n",
    "print('RMSE: {}'.format(np.sqrt(mean_squared_error(y_test, gridsearch_gam.predict(x_test_pca)))))\n",
    "print('Parámetro/s encontrados: {}'.format(gridsearch_gam.lam))\n"
   ]
  },
  {
   "cell_type": "code",
   "execution_count": null,
   "metadata": {},
   "outputs": [],
   "source": []
  },
  {
   "cell_type": "code",
   "execution_count": null,
   "metadata": {},
   "outputs": [],
   "source": []
  }
 ],
 "metadata": {
  "kernelspec": {
   "display_name": "Python 3",
   "language": "python",
   "name": "python3"
  },
  "language_info": {
   "codemirror_mode": {
    "name": "ipython",
    "version": 3
   },
   "file_extension": ".py",
   "mimetype": "text/x-python",
   "name": "python",
   "nbconvert_exporter": "python",
   "pygments_lexer": "ipython3",
   "version": "3.6.8"
  }
 },
 "nbformat": 4,
 "nbformat_minor": 2
}
